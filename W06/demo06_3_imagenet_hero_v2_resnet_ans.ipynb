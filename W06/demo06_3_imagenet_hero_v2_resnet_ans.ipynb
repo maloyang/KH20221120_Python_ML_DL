{
 "cells": [
  {
   "cell_type": "markdown",
   "metadata": {
    "id": "OmAT4DpvlPgw"
   },
   "source": [
    "# ImageNet比賽的英雄們!\n"
   ]
  },
  {
   "cell_type": "markdown",
   "metadata": {
    "id": "vomJcmD_w99Y"
   },
   "source": [
    "### Part2: 試著利用 ResNet50 和 MobileNetV2 進行影像辨識的應用\n",
    "\n",
    "- 以resnet為範例，超個頭如下：\n",
    "\n",
    "```py\n",
    "from keras.applications.resnet import ResNet50\n",
    "from tensorflow.keras.preprocessing import image\n",
    "from keras.applications.resnet import preprocess_input, decode_predictions\n",
    "import numpy as np\n",
    "\n",
    "model = ResNet50(weights='imagenet', include_top=True)\n",
    "```\n",
    "\n"
   ]
  },
  {
   "cell_type": "code",
   "execution_count": 1,
   "metadata": {
    "id": "1IyjOpVsw9g8"
   },
   "outputs": [],
   "source": [
    "from keras.applications.resnet import ResNet50\n",
    "from tensorflow.keras.preprocessing import image\n",
    "from keras.applications.resnet import preprocess_input, decode_predictions\n",
    "import numpy as np\n",
    "\n",
    "model = ResNet50(weights='imagenet', include_top=True)"
   ]
  },
  {
   "cell_type": "code",
   "execution_count": 2,
   "metadata": {
    "id": "QPhvV3gvxsbt"
   },
   "outputs": [],
   "source": [
    "img_url = 'https://cdn.pixabay.com/photo/2016/02/19/15/46/labrador-retriever-1210559_960_720.jpg'\n"
   ]
  },
  {
   "cell_type": "code",
   "execution_count": 10,
   "metadata": {
    "colab": {
     "base_uri": "https://localhost:8080/"
    },
    "id": "aunPL6UXyfO6",
    "outputId": "5c7f6eda-f049-4c76-9240-c4a021096745"
   },
   "outputs": [
    {
     "name": "stdout",
     "output_type": "stream",
     "text": [
      "--2022-12-26 14:15:55--  https://cdn.pixabay.com/photo/2016/02/19/15/46/labrador-retriever-1210559_960_720.jpg\n",
      "Resolving cdn.pixabay.com (cdn.pixabay.com)... 104.18.37.244, 172.64.150.12, 2606:4700:4400::ac40:960c, ...\n",
      "Connecting to cdn.pixabay.com (cdn.pixabay.com)|104.18.37.244|:443... connected.\n",
      "HTTP request sent, awaiting response... 200 OK\n",
      "Length: 139598 (136K) [binary/octet-stream]\n",
      "Saving to: ‘dog01.jpg’\n",
      "\n",
      "dog01.jpg           100%[===================>] 136.33K  --.-KB/s    in 0.02s   \n",
      "\n",
      "2022-12-26 14:15:55 (5.82 MB/s) - ‘dog01.jpg’ saved [139598/139598]\n",
      "\n"
     ]
    }
   ],
   "source": [
    "!wget -O dog01.jpg https://cdn.pixabay.com/photo/2016/02/19/15/46/labrador-retriever-1210559_960_720.jpg"
   ]
  },
  {
   "cell_type": "code",
   "execution_count": 3,
   "metadata": {
    "id": "0Vvvh91SxsKl"
   },
   "outputs": [],
   "source": [
    "img_path = './dog01.jpg'\n",
    "img = image.load_img(img_path, target_size=(224, 224))\n",
    "x = image.img_to_array(img)\n",
    "x = np.expand_dims(x, axis=0)\n",
    "x = preprocess_input(x)"
   ]
  },
  {
   "cell_type": "code",
   "execution_count": 4,
   "metadata": {
    "colab": {
     "base_uri": "https://localhost:8080/"
    },
    "id": "M33qlAz4zNfo",
    "outputId": "15d6bd69-7b42-4b3a-c779-50074386751d"
   },
   "outputs": [
    {
     "name": "stdout",
     "output_type": "stream",
     "text": [
      "Predicted:  [('n02099712', 'Labrador_retriever', 0.7615827), ('n02099601', 'golden_retriever', 0.20754753), ('n02087394', 'Rhodesian_ridgeback', 0.017296461)]\n"
     ]
    }
   ],
   "source": [
    "features = model.predict(x)\n",
    "print('Predicted: ', decode_predictions(features, top=3)[0])"
   ]
  }
 ],
 "metadata": {
  "accelerator": "TPU",
  "colab": {
   "provenance": []
  },
  "kernelspec": {
   "display_name": "Python 3 (ipykernel)",
   "language": "python",
   "name": "python3"
  },
  "language_info": {
   "codemirror_mode": {
    "name": "ipython",
    "version": 3
   },
   "file_extension": ".py",
   "mimetype": "text/x-python",
   "name": "python",
   "nbconvert_exporter": "python",
   "pygments_lexer": "ipython3",
   "version": "3.7.13"
  }
 },
 "nbformat": 4,
 "nbformat_minor": 1
}
