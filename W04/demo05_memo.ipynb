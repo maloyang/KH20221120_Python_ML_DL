{
 "cells": [
  {
   "cell_type": "markdown",
   "id": "9d84afa1-4e72-483c-af85-ecea89705d1d",
   "metadata": {
    "tags": []
   },
   "source": [
    "# Demo6: 手寫數字辨識\n"
   ]
  },
  {
   "cell_type": "markdown",
   "id": "bfee9833-bebe-4995-a995-0096793e879d",
   "metadata": {},
   "source": [
    "ref: https://scikit-learn.org/stable/auto_examples/classification/plot_digits_classification.html#sphx-glr-auto-examples-classification-plot-digits-classification-py"
   ]
  },
  {
   "cell_type": "code",
   "execution_count": 14,
   "id": "e1a0977b-f3c1-4ccc-99b0-5347121c7832",
   "metadata": {},
   "outputs": [],
   "source": [
    "# Standard scientific Python imports\n",
    "import matplotlib.pyplot as plt\n",
    "\n",
    "# Import datasets, classifiers and performance metrics\n",
    "from sklearn import datasets, svm, metrics\n",
    "from sklearn.model_selection import train_test_split\n",
    "\n",
    "from sklearn.cluster import KMeans\n"
   ]
  },
  {
   "cell_type": "markdown",
   "id": "4ddd88e2-861a-4a0d-97e1-797bce3357c2",
   "metadata": {
    "tags": []
   },
   "source": [
    "### Digital number: \n",
    "The digits dataset consists of 8x8 pixel images of digits. The images attribute of the dataset stores 8x8 arrays of grayscale values for each image"
   ]
  },
  {
   "cell_type": "code",
   "execution_count": 16,
   "id": "4794b287-f8ed-4a5e-aa1b-d43a0bb66010",
   "metadata": {},
   "outputs": [
    {
     "name": "stdout",
     "output_type": "stream",
     "text": [
      "1\n",
      "2\n",
      "3\n",
      "4\n",
      "5\n",
      "6\n"
     ]
    }
   ],
   "source": [
    "a_list = [1, 2, 3, 4, 5, 6]\n",
    "for item in a_list:\n",
    "    print(item)"
   ]
  },
  {
   "cell_type": "code",
   "execution_count": 17,
   "id": "d3f5cd07-7d1b-41de-83a4-e2f68ebaf15a",
   "metadata": {},
   "outputs": [
    {
     "name": "stdout",
     "output_type": "stream",
     "text": [
      "[1, 10]\n",
      "[2, 20]\n",
      "[3, 30]\n",
      "[4, 40]\n"
     ]
    }
   ],
   "source": [
    "b_list = [ [1, 10],\n",
    "          [2, 20],\n",
    "          [3, 30],\n",
    "          [4, 40]\n",
    "         ]\n",
    "for item in b_list:\n",
    "    print(item)\n",
    "    "
   ]
  },
  {
   "cell_type": "code",
   "execution_count": 18,
   "id": "9b43b89e-d601-4c59-953f-7dec8e389545",
   "metadata": {},
   "outputs": [
    {
     "name": "stdout",
     "output_type": "stream",
     "text": [
      "1 10\n",
      "2 20\n",
      "3 30\n",
      "4 40\n"
     ]
    }
   ],
   "source": [
    "for m, n in b_list:\n",
    "    print(m, n)"
   ]
  },
  {
   "cell_type": "code",
   "execution_count": 19,
   "id": "869ce542-05d8-4a90-b8b6-975edc9ca22c",
   "metadata": {},
   "outputs": [
    {
     "name": "stdout",
     "output_type": "stream",
     "text": [
      "[1, 10, 100]\n",
      "[2, 20, 200]\n",
      "[3, 30, 300]\n",
      "[4, 40, 400]\n"
     ]
    }
   ],
   "source": [
    "c_list = [ [1, 10, 100],\n",
    "          [2, 20, 200],\n",
    "          [3, 30, 300],\n",
    "          [4, 40, 400],\n",
    "         ]\n",
    "for item in c_list:\n",
    "    print(item)\n",
    "    "
   ]
  },
  {
   "cell_type": "code",
   "execution_count": 22,
   "id": "35559790-fc96-45d4-b97d-da97219d70c5",
   "metadata": {},
   "outputs": [
    {
     "name": "stdout",
     "output_type": "stream",
     "text": [
      "1 10\n",
      "2 20\n",
      "3 30\n",
      "4 40\n"
     ]
    }
   ],
   "source": [
    "for m, n, k in c_list:\n",
    "    print(m, n)"
   ]
  },
  {
   "cell_type": "code",
   "execution_count": 23,
   "id": "94e17955-c667-4492-84d0-e31526156ac5",
   "metadata": {},
   "outputs": [
    {
     "name": "stdout",
     "output_type": "stream",
     "text": [
      "1 10\n",
      "2 20\n",
      "3 30\n",
      "4 40\n"
     ]
    }
   ],
   "source": [
    "a1 = [1, 2, 3, 4]\n",
    "a2 = [10, 20, 30, 40]\n",
    "for m, n in zip(a1, a2):\n",
    "    print(m, n)"
   ]
  },
  {
   "cell_type": "code",
   "execution_count": 24,
   "id": "1f865676-867d-411d-a7e3-74c4876659d6",
   "metadata": {},
   "outputs": [
    {
     "name": "stdout",
     "output_type": "stream",
     "text": [
      "(1, 10)\n",
      "(2, 20)\n",
      "(3, 30)\n",
      "(4, 40)\n"
     ]
    }
   ],
   "source": [
    "for item in zip(a1, a2):\n",
    "    print(item)"
   ]
  },
  {
   "cell_type": "code",
   "execution_count": null,
   "id": "a88b8d48-8240-413d-9d54-aac342e09e9b",
   "metadata": {},
   "outputs": [],
   "source": [
    "d_list = []\n",
    "for i in range(len(axes)):\n",
    "    d_list.append([ axes[i], digits.images[i], digits.target[i] ])"
   ]
  },
  {
   "cell_type": "code",
   "execution_count": 25,
   "id": "beb95214-790d-4df6-852f-e74eca6ab8fe",
   "metadata": {},
   "outputs": [
    {
     "data": {
      "image/png": "[encoded data removed]",
      "text/plain": [
       "<Figure size 720x216 with 4 Axes>"
      ]
     },
     "metadata": {
      "needs_background": "light"
     },
     "output_type": "display_data"
    }
   ],
   "source": [
    "digits = datasets.load_digits()\n",
    "\n",
    "_, axes = plt.subplots(nrows=1, ncols=4, figsize=(10, 3))\n",
    "for ax, image, label in zip(axes, digits.images, digits.target):\n",
    "    ax.set_axis_off()\n",
    "    ax.imshow(image, cmap=plt.cm.gray_r, interpolation=\"nearest\")\n",
    "    ax.set_title(\"Training: %i\" % label)"
   ]
  },
  {
   "cell_type": "code",
   "execution_count": 26,
   "id": "20e463e7-0d98-42b1-943a-386adf8ec54b",
   "metadata": {},
   "outputs": [
    {
     "data": {
      "text/plain": [
       "dict_keys(['data', 'target', 'frame', 'feature_names', 'target_names', 'images', 'DESCR'])"
      ]
     },
     "execution_count": 26,
     "metadata": {},
     "output_type": "execute_result"
    }
   ],
   "source": [
    "digits.keys()"
   ]
  },
  {
   "cell_type": "code",
   "execution_count": null,
   "id": "77bab025-1b63-431e-ae65-718a9ec3e677",
   "metadata": {},
   "outputs": [],
   "source": []
  },
  {
   "cell_type": "markdown",
   "id": "05025294-1555-4be4-8348-e97e05f209c1",
   "metadata": {},
   "source": [
    "### 整理資料"
   ]
  },
  {
   "cell_type": "code",
   "execution_count": 27,
   "id": "9d4b6831-acd6-4d5d-9f33-5cf952d1373e",
   "metadata": {},
   "outputs": [],
   "source": [
    "# flatten the images\n",
    "n_samples = len(digits.images)\n",
    "data = digits.images.reshape((n_samples, -1))"
   ]
  },
  {
   "cell_type": "code",
   "execution_count": 28,
   "id": "cf40affd-1bdf-42db-83a5-d23fc0115f1f",
   "metadata": {},
   "outputs": [],
   "source": [
    "# Split data into 50% train and 50% test subsets\n",
    "X_train, X_test, y_train, y_test = train_test_split(\n",
    "    data, digits.target, test_size=0.5, shuffle=False\n",
    ")"
   ]
  },
  {
   "cell_type": "code",
   "execution_count": 38,
   "id": "f9fc7203-6d21-4a25-a343-a706b2b36920",
   "metadata": {},
   "outputs": [
    {
     "data": {
      "text/plain": [
       "array([ 0.,  0.,  5., 13.,  9.,  1.,  0.,  0.,  0.,  0., 13., 15., 10.,\n",
       "       15.,  5.,  0.,  0.,  3., 15.,  2.,  0., 11.,  8.,  0.,  0.,  4.,\n",
       "       12.,  0.,  0.,  8.,  8.,  0.,  0.,  5.,  8.,  0.,  0.,  9.,  8.,\n",
       "        0.,  0.,  4., 11.,  0.,  1., 12.,  7.,  0.,  0.,  2., 14.,  5.,\n",
       "       10., 12.,  0.,  0.,  0.,  0.,  6., 13., 10.,  0.,  0.,  0.])"
      ]
     },
     "execution_count": 38,
     "metadata": {},
     "output_type": "execute_result"
    }
   ],
   "source": [
    "data[0]"
   ]
  },
  {
   "cell_type": "markdown",
   "id": "c3c1b683-c3b8-44fc-8da5-68cd6b7bd121",
   "metadata": {},
   "source": [
    "### 建立模型"
   ]
  },
  {
   "cell_type": "code",
   "execution_count": 29,
   "id": "b7d369e3-9866-487b-8399-0bfd88572bf0",
   "metadata": {},
   "outputs": [],
   "source": [
    "# Create a classifier: a support vector classifier\n",
    "#clf = svm.SVC(gamma=0.001)\n",
    "\n",
    "kmeans = KMeans(n_clusters=10)\n"
   ]
  },
  {
   "cell_type": "markdown",
   "id": "7174c932-b43a-457d-b0c0-abca3443c3c6",
   "metadata": {},
   "source": [
    "### 訓練模型"
   ]
  },
  {
   "cell_type": "code",
   "execution_count": 32,
   "id": "bf5f630e-8a6c-4aae-9f5b-a3979c85ceb3",
   "metadata": {},
   "outputs": [
    {
     "data": {
      "text/plain": [
       "KMeans(n_clusters=10)"
      ]
     },
     "execution_count": 32,
     "metadata": {},
     "output_type": "execute_result"
    }
   ],
   "source": [
    "# Learn the digits on the train subset\n",
    "#clf.fit(X_train, y_train)\n",
    "\n",
    "kmeans.fit(X_train)\n"
   ]
  },
  {
   "cell_type": "code",
   "execution_count": 33,
   "id": "720bbbee-e096-4180-b786-c54361bbbe87",
   "metadata": {},
   "outputs": [],
   "source": [
    "y_kmeans = kmeans.predict(X_train)\n"
   ]
  },
  {
   "cell_type": "code",
   "execution_count": 34,
   "id": "9a89f712-0cbb-4bb8-9f6a-7a659225a920",
   "metadata": {},
   "outputs": [
    {
     "data": {
      "text/plain": [
       "array([3, 2, 2, 8, 7])"
      ]
     },
     "execution_count": 34,
     "metadata": {},
     "output_type": "execute_result"
    }
   ],
   "source": [
    "y_kmeans[:5]"
   ]
  },
  {
   "cell_type": "code",
   "execution_count": 35,
   "id": "426f4e85-316a-4bf4-93e1-71937991745d",
   "metadata": {},
   "outputs": [
    {
     "data": {
      "text/plain": [
       "array([0, 1, 2, 3, 4])"
      ]
     },
     "execution_count": 35,
     "metadata": {},
     "output_type": "execute_result"
    }
   ],
   "source": [
    "y_train[:5]"
   ]
  },
  {
   "cell_type": "code",
   "execution_count": 37,
   "id": "7a85f310-05e0-47a5-b3cc-e95fd00be1cc",
   "metadata": {},
   "outputs": [
    {
     "data": {
      "text/plain": [
       "array([3, 1, 0, 5, 3])"
      ]
     },
     "execution_count": 37,
     "metadata": {},
     "output_type": "execute_result"
    }
   ],
   "source": [
    "y_kmeans[:5]-y_train[:5]"
   ]
  },
  {
   "cell_type": "code",
   "execution_count": 13,
   "id": "efbc4fcd-6bbc-4a0c-aac4-0d3bf23d3123",
   "metadata": {},
   "outputs": [
    {
     "data": {
      "text/plain": [
       "array([ 6,  1,  0,  6,  0,  4, -1, -4, -6, -8,  6, -1,  5,  6,  0,  3, -1,\n",
       "       -4, -6,  0,  6, -1,  5,  6, -4,  3, -1, -4, -6,  0,  6,  0,  3,  3,\n",
       "       -1,  3,  6, -8,  0, -8, -6,  0, -1, -4, -4,  6,  3, -1,  6,  6,  0,\n",
       "        0, -4, -6,  0,  6, -1,  0, -1,  6,  6, -4,  6,  6,  0, -1, -1, -1,\n",
       "        0, -7, -1,  3,  6,  0,  3,  0, -6, -2,  6,  6, -1, -4, -1,  6,  5,\n",
       "       -1, -4,  0, -1,  6, -1,  6,  0,  1, -4, -4, -6,  0,  6,  1,  0,  6,\n",
       "        3,  5, -1,  0, -1, -1, -4,  3,  0,  0, -4,  5, -6,  0,  0,  3, -4,\n",
       "       -8,  3,  0, -6, -6,  0,  0,  6, -6, -8, -6,  6, -1,  5,  6,  0,  3,\n",
       "       -1, -4, -6, -8,  6, -1,  5,  6,  0,  3, -1, -4, -6, -8,  6, -1,  5,\n",
       "        6,  0,  3, -1, -4, -6, -8,  6,  0,  3,  3, -1,  3,  6, -8, -6, -8,\n",
       "       -6,  0, -1, -4, -4,  6,  3, -1,  6,  6,  5,  5, -4, -6,  5,  6, -1,\n",
       "        5, -1,  6,  6, -4,  6,  6,  0, -1, -1, -1, -2, -8, -1,  3,  6,  0,\n",
       "        3,  1, -6,  5,  6,  6, -1, -4, -1,  6,  5, -1, -4,  6, -1,  6, -8,\n",
       "       -1, -4, -1, -6,  0,  6, -1,  0,  6,  3,  0, -1,  0, -1, -1, -4,  3,\n",
       "       -2,  0, -4,  5, -6,  5,  5,  3,  3, -4, -6, -6,  0, -8,  6, -6, -8,\n",
       "       -6,  6,  1,  5,  6,  0, -4, -1, -4, -7, -6,  6,  1,  5,  6,  0,  3,\n",
       "       -1, -4, -6, -6,  6,  1,  5,  6,  0,  3, -1, -4, -6, -8,  6, -8,  3,\n",
       "       -4, -1, -4,  6, -8, -6, -8, -6,  0,  1, -4, -4,  6,  3,  1,  6,  6,\n",
       "        5,  5, -4, -7,  5,  6, -1,  5, -1,  6,  6, -4,  6,  6,  0, -1, -1,\n",
       "       -1,  0, -6,  1,  3,  6, -6,  3,  5, -7,  5,  6,  6,  1, -4, -1,  6,\n",
       "        5,  1, -4,  0, -1,  6,  1,  6, -6,  1, -4, -1, -6,  0,  6,  1,  0,\n",
       "        6, -4,  6, -1, -6, -1,  1, -4,  3,  0,  0, -4,  5, -7,  5,  5, -4,\n",
       "       -4, -9,  3,  0, -7, -7,  0, -9,  6, -6, -6,  6,  6, -1,  5,  6,  0,\n",
       "        3, -1, -4, -7, -8,  6, -1,  5,  6,  0,  3, -1, -4, -6, -8,  6, -1,\n",
       "        5,  6,  0,  3, -1, -4, -7, -8,  6, -8,  4,  3, -1,  4,  6, -8, -7,\n",
       "       -8, -7,  0, -1, -4, -4,  6,  3, -1,  6,  6,  5,  5, -4, -7,  5,  6,\n",
       "        6,  5, -1,  6, -2, -4, -2,  6,  0, -1, -1, -1,  0, -8, -1, -4,  6,\n",
       "       -8,  3,  5, -6,  5,  6,  6, -1, -4, -1,  6,  5, -1, -4, -4, -1,  6,\n",
       "       -1,  6, -8, -1, -4, -1, -7,  0,  6, -1,  0,  6,  3,  6, -1, -8, -4,\n",
       "       -1, -4,  3, -4,  0, -4,  5, -7,  5,  0,  3, -4, -8,  3,  0, -6, -6,\n",
       "        0, -8,  6, -7, -8, -7,  6,  6,  5, -2,  0, -4, -1, -4, -6, -8,  6,\n",
       "        6,  5, -2,  0, -4, -1, -4, -6, -8,  6,  6,  5, -2,  0, -4, -1, -4,\n",
       "       -6, -8,  6, -8,  3, -4, -1, -4,  6, -8, -6, -8, -6,  0,  6, -4, -4,\n",
       "       -2, -4,  4,  6,  6,  5,  5, -4, -6,  5,  6,  6,  5, -1, -2, -2, -4,\n",
       "       -2, -2,  0, -1, -1, -1,  0, -8,  4, -4,  6, -8, -4,  5, -6,  5,  6,\n",
       "        6,  6, -4, -1, -2,  5,  6, -4,  0, -1, -2,  6, -2, -8,  6, -4, -1,\n",
       "       -6,  0,  6,  1,  0,  6, -4, -2, -1, -8, -1,  6, -4,  3,  0,  0, -4,\n",
       "        5, -6,  5,  5,  3, -4, -8, -4,  0, -8, -6,  0, -8,  6, -6, -8, -6,\n",
       "        6,  1,  5,  6,  0,  3, -1, -4, -7, -9,  6,  1,  5,  6,  0,  3, -1,\n",
       "       -4, -6, -9,  6,  1,  5,  6, -4,  3, -1, -4, -7, -9,  6, -9, -1,  3,\n",
       "       -1,  3,  6, -9, -6, -9, -7,  0,  1, -4, -4, -2,  3,  1,  6,  6,  7,\n",
       "        5, -4, -6,  0,  6,  1, -1, -1,  6,  6, -4,  6,  6,  0, -1, -1, -1,\n",
       "        0, -9,  1,  3,  6, -9,  3,  7, -7,  5,  6,  6,  1, -4, -1,  6,  5,\n",
       "        1, -4,  0, -1,  6,  1,  6, -9,  1, -4, -1, -6,  0,  6,  1, -1,  6,\n",
       "        3,  6, -1, -9, -1,  1, -4,  3,  0, -1, -4,  5, -6,  5,  5,  3, -4,\n",
       "       -9,  3,  0, -7, -6, -1, -9,  6, -7, -9, -6,  6,  1,  5,  6,  0,  3,\n",
       "       -1, -4, -3, -8,  6,  1,  5,  6,  0,  3,  0, -4, -8, -8,  6,  1,  5,\n",
       "        6,  0,  3, -1, -4, -6, -8,  6, -8,  3,  3, -1,  3,  6, -8, -7, -8,\n",
       "       -7,  0,  1, -4, -4,  6,  3,  1,  6,  6,  5,  5, -4, -7,  5,  6,  6,\n",
       "        5, -1,  6,  6, -4,  6,  6,  0, -1, -1, -1,  0, -8,  1,  3,  6, -8,\n",
       "        3,  5, -6,  5,  6,  6,  1, -4, -1,  6,  0,  1, -4,  0, -1,  6,  1,\n",
       "        6, -8,  1, -4, -1, -1,  0,  6,  1,  0,  6,  3,  6, -1, -8, -1,  1,\n",
       "       -4,  3,  0,  0, -4,  5, -8,  1,  5,  3, -4, -8,  3,  0])"
      ]
     },
     "execution_count": 13,
     "metadata": {},
     "output_type": "execute_result"
    }
   ],
   "source": [
    "(y_kmeans - y_train)"
   ]
  },
  {
   "cell_type": "code",
   "execution_count": null,
   "id": "4b0e11a8-8521-4402-818e-904dab8d2d7f",
   "metadata": {},
   "outputs": [],
   "source": []
  },
  {
   "cell_type": "markdown",
   "id": "fd5200fd-b09d-4e2d-bd6b-0cc0e6c0905f",
   "metadata": {},
   "source": [
    "## 用模型做預測"
   ]
  },
  {
   "cell_type": "code",
   "execution_count": 13,
   "id": "5173b00c-e956-402e-aae3-923583b1d40f",
   "metadata": {},
   "outputs": [],
   "source": [
    "# Predict the value of the digit on the test subset\n",
    "predicted = clf.predict(X_test)"
   ]
  },
  {
   "cell_type": "markdown",
   "id": "fa622e9e-33c6-4ae8-bfca-d65d774be04d",
   "metadata": {},
   "source": [
    "### 簡單做個驗證"
   ]
  },
  {
   "cell_type": "code",
   "execution_count": 14,
   "id": "e4192d00-8e29-40e0-96bd-0cde85c430b0",
   "metadata": {},
   "outputs": [
    {
     "data": {
      "image/png": "[encoded data removed]",
      "text/plain": [
       "<Figure size 720x216 with 4 Axes>"
      ]
     },
     "metadata": {
      "needs_background": "light"
     },
     "output_type": "display_data"
    }
   ],
   "source": [
    "_, axes = plt.subplots(nrows=1, ncols=4, figsize=(10, 3))\n",
    "for ax, image, prediction in zip(axes, X_test, predicted):\n",
    "    ax.set_axis_off()\n",
    "    image = image.reshape(8, 8)\n",
    "    ax.imshow(image, cmap=plt.cm.gray_r, interpolation=\"nearest\")\n",
    "    ax.set_title(f\"Prediction: {prediction}\")"
   ]
  },
  {
   "cell_type": "markdown",
   "id": "6962eb53-4318-48c6-ae55-7ed80ce31b11",
   "metadata": {},
   "source": [
    "### 評估"
   ]
  },
  {
   "cell_type": "code",
   "execution_count": 17,
   "id": "15149406-b433-4917-b47e-7c3642585227",
   "metadata": {},
   "outputs": [
    {
     "name": "stdout",
     "output_type": "stream",
     "text": [
      "Classification report for classifier  SVC(gamma=0.001)\n",
      "------------------------------------\n",
      "              precision    recall  f1-score   support\n",
      "\n",
      "           0       1.00      0.99      0.99        88\n",
      "           1       0.99      0.97      0.98        91\n",
      "           2       0.99      0.99      0.99        86\n",
      "           3       0.98      0.87      0.92        91\n",
      "           4       0.99      0.96      0.97        92\n",
      "           5       0.95      0.97      0.96        91\n",
      "           6       0.99      0.99      0.99        91\n",
      "           7       0.96      0.99      0.97        89\n",
      "           8       0.94      1.00      0.97        88\n",
      "           9       0.93      0.98      0.95        92\n",
      "\n",
      "    accuracy                           0.97       899\n",
      "   macro avg       0.97      0.97      0.97       899\n",
      "weighted avg       0.97      0.97      0.97       899\n",
      "\n"
     ]
    }
   ],
   "source": [
    "print(\"Classification report for classifier \", clf)\n",
    "print('------------------------------------')\n",
    "print(metrics.classification_report(y_test, predicted))"
   ]
  },
  {
   "cell_type": "code",
   "execution_count": null,
   "id": "b734bba6-8268-46c2-af60-cffd142af6ea",
   "metadata": {},
   "outputs": [],
   "source": []
  },
  {
   "cell_type": "code",
   "execution_count": null,
   "id": "f00e8438-9717-43ae-a087-9dfb3ea56f6e",
   "metadata": {},
   "outputs": [],
   "source": []
  },
  {
   "cell_type": "code",
   "execution_count": 19,
   "id": "7cefc076-9d54-483d-ad71-b12721fc6dd3",
   "metadata": {},
   "outputs": [],
   "source": [
    "import sklearn"
   ]
  },
  {
   "cell_type": "code",
   "execution_count": 23,
   "id": "314a5e49-c640-4506-a359-f885d7fe4da3",
   "metadata": {},
   "outputs": [
    {
     "data": {
      "text/plain": [
       "'0.24.2'"
      ]
     },
     "execution_count": 23,
     "metadata": {},
     "output_type": "execute_result"
    }
   ],
   "source": [
    "sklearn.__version__"
   ]
  }
 ],
 "metadata": {
  "kernelspec": {
   "display_name": "Python 3 (ipykernel)",
   "language": "python",
   "name": "python3"
  },
  "language_info": {
   "codemirror_mode": {
    "name": "ipython",
    "version": 3
   },
   "file_extension": ".py",
   "mimetype": "text/x-python",
   "name": "python",
   "nbconvert_exporter": "python",
   "pygments_lexer": "ipython3",
   "version": "3.9.7"
  }
 },
 "nbformat": 4,
 "nbformat_minor": 5
}
