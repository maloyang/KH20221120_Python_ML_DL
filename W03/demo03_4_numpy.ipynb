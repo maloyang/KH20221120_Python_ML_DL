{
 "cells": [
  {
   "cell_type": "markdown",
   "id": "641422bc-ded9-4565-94a6-3fc4dcf81613",
   "metadata": {},
   "source": [
    "# Numpy: 處理數學計算的好工具"
   ]
  },
  {
   "cell_type": "markdown",
   "id": "529e28a6-b5fb-48a8-beed-0433af85816b",
   "metadata": {},
   "source": [
    "## 參考資訊:\n",
    "- https://numpy.org/\n",
    "- 可以參考[手冊](https://numpy.org/doc/stable/)。\n",
    "- 不錯的[切入點](https://numpy.org/doc/stable/user/absolute_beginners.html)。"
   ]
  },
  {
   "cell_type": "markdown",
   "id": "7c807318-4ed1-4fc4-9d08-8ee56ea563d2",
   "metadata": {},
   "source": [
    "## 我們假設你是使用 Anaconda，所以已經內建numpy\n",
    "- 如果沒有的話，可以使用指令安裝 `pip install numpy`\n",
    "----"
   ]
  },
  {
   "cell_type": "markdown",
   "id": "b0a98994-7a57-4d19-8c12-6dca54be222c",
   "metadata": {},
   "source": [
    "## 為何需要numpy\n",
    "- 很多科學運算都需要向量運算，但是原生的Python對這樣的操作並不方便\n",
    "- 以C為基礎來開發的模組，速度快很多\n",
    "\n",
    "### 起手式"
   ]
  },
  {
   "cell_type": "code",
   "execution_count": 1,
   "id": "71ed4da1-f62d-4f9f-87b0-9fcf679647ee",
   "metadata": {},
   "outputs": [],
   "source": [
    "import numpy as np"
   ]
  },
  {
   "cell_type": "code",
   "execution_count": 2,
   "id": "f1712ff5-19c9-4735-8e76-ac7b7cd8a4ec",
   "metadata": {},
   "outputs": [
    {
     "data": {
      "text/plain": [
       "[1, 2, 3, 4, 5, 6]"
      ]
     },
     "execution_count": 2,
     "metadata": {},
     "output_type": "execute_result"
    }
   ],
   "source": [
    "# 以 A+B來說\n",
    "\n",
    "va = [1, 2, 3]\n",
    "vb = [4, 5, 6]\n",
    "\n",
    "va+vb"
   ]
  },
  {
   "cell_type": "code",
   "execution_count": 3,
   "id": "218c2a6a-b43d-48de-82b9-a3b46037b6c7",
   "metadata": {},
   "outputs": [
    {
     "name": "stdout",
     "output_type": "stream",
     "text": [
      "[5, 7, 9]\n"
     ]
    }
   ],
   "source": [
    "# 我們要這樣寫\n",
    "va = [1, 2, 3]\n",
    "vb = [4, 5, 6]\n",
    "\n",
    "vc = list()\n",
    "for i in range(len(va)):\n",
    "    vc.append(va[i]+vb[i])\n",
    "print(vc)"
   ]
  },
  {
   "cell_type": "code",
   "execution_count": 4,
   "id": "fe70ecec-7dbf-4a91-a84c-8135f4a440e1",
   "metadata": {},
   "outputs": [
    {
     "data": {
      "text/plain": [
       "array([5, 7, 9])"
      ]
     },
     "execution_count": 4,
     "metadata": {},
     "output_type": "execute_result"
    }
   ],
   "source": [
    "# 以numpy來處理\n",
    "va1 = np.array(va)\n",
    "vb1 = np.array(vb)\n",
    "va1+vb1"
   ]
  },
  {
   "cell_type": "markdown",
   "id": "57728390-8c32-492c-b338-547763c244a3",
   "metadata": {},
   "source": [
    "### 乘法"
   ]
  },
  {
   "cell_type": "code",
   "execution_count": 5,
   "id": "6b220ade-17d9-495c-a225-d9cd83fb2165",
   "metadata": {},
   "outputs": [
    {
     "data": {
      "text/plain": [
       "array([ 4, 10, 18])"
      ]
     },
     "execution_count": 5,
     "metadata": {},
     "output_type": "execute_result"
    }
   ],
   "source": [
    "va1*vb1"
   ]
  },
  {
   "cell_type": "markdown",
   "id": "aafdb049-444b-4cf2-a8c3-73503fcabb18",
   "metadata": {},
   "source": [
    "### 建立二維的"
   ]
  },
  {
   "cell_type": "code",
   "execution_count": 6,
   "id": "66bd47ee-99b1-4ee9-a133-eafb7dd65a0e",
   "metadata": {},
   "outputs": [],
   "source": [
    "a = np.array([\n",
    "    [1, 2, 3, 4], \n",
    "    [5, 6, 7, 8], \n",
    "    [9, 10, 11, 12]\n",
    "    ])"
   ]
  },
  {
   "cell_type": "code",
   "execution_count": 8,
   "id": "7c191d87-1098-4b59-89e6-ff418eb0bd5f",
   "metadata": {},
   "outputs": [
    {
     "data": {
      "text/plain": [
       "array([[ 1,  2,  3,  4],\n",
       "       [ 5,  6,  7,  8],\n",
       "       [ 9, 10, 11, 12]])"
      ]
     },
     "execution_count": 8,
     "metadata": {},
     "output_type": "execute_result"
    }
   ],
   "source": [
    "a"
   ]
  },
  {
   "cell_type": "code",
   "execution_count": 7,
   "id": "f2b28fb3-4bd6-4ecb-b579-5918b4358b47",
   "metadata": {},
   "outputs": [
    {
     "data": {
      "text/plain": [
       "array([5, 6, 7, 8])"
      ]
     },
     "execution_count": 7,
     "metadata": {},
     "output_type": "execute_result"
    }
   ],
   "source": [
    "a[1]"
   ]
  },
  {
   "cell_type": "markdown",
   "id": "7ac4ff80-611e-4ded-bf3a-81d33ca23bd8",
   "metadata": {
    "jp-MarkdownHeadingCollapsed": true,
    "tags": []
   },
   "source": [
    "### 談談: 1D array, 2D array, ndarray, vector, matrix\n",
    "- ndarray 可呈現 1D, 2D, ... nD\n",
    "- vector: 一維\n",
    "- matrix: 二維\n",
    "- tensor: 三維、或是更高維度的array\n"
   ]
  },
  {
   "cell_type": "markdown",
   "id": "93176cd7-07c3-48f9-9f6e-00bf55be93d2",
   "metadata": {},
   "source": [
    "### 建立ndarray的方法\n",
    "- 使用array()"
   ]
  },
  {
   "cell_type": "code",
   "execution_count": 9,
   "id": "016f455d-e8ed-4249-bde3-25c5f0e6f4a5",
   "metadata": {},
   "outputs": [
    {
     "data": {
      "text/plain": [
       "array([1, 2, 3])"
      ]
     },
     "execution_count": 9,
     "metadata": {},
     "output_type": "execute_result"
    }
   ],
   "source": [
    "X = [1, 2, 3]\n",
    "Y = np.array(X)\n",
    "Y"
   ]
  },
  {
   "cell_type": "code",
   "execution_count": 10,
   "id": "e40c738b-5430-45ec-a4be-ef7f826bc706",
   "metadata": {},
   "outputs": [
    {
     "data": {
      "text/plain": [
       "[1, 2, 3]"
      ]
     },
     "execution_count": 10,
     "metadata": {},
     "output_type": "execute_result"
    }
   ],
   "source": [
    "X"
   ]
  },
  {
   "cell_type": "code",
   "execution_count": 11,
   "id": "672bc43c-f05a-43ab-8f28-2822fae60176",
   "metadata": {},
   "outputs": [
    {
     "data": {
      "text/plain": [
       "array([4, 5, 6])"
      ]
     },
     "execution_count": 11,
     "metadata": {},
     "output_type": "execute_result"
    }
   ],
   "source": [
    "A = np.array([4, 5, 6])\n",
    "A"
   ]
  },
  {
   "cell_type": "markdown",
   "id": "9a89e4bf-34bb-445a-a958-fefc1646d9e7",
   "metadata": {},
   "source": [
    "- ndarray 的屬性"
   ]
  },
  {
   "cell_type": "code",
   "execution_count": 12,
   "id": "fe2ef870-0ccf-434b-88d7-85cf9065dd02",
   "metadata": {},
   "outputs": [
    {
     "data": {
      "text/plain": [
       "(3,)"
      ]
     },
     "execution_count": 12,
     "metadata": {},
     "output_type": "execute_result"
    }
   ],
   "source": [
    "A.shape"
   ]
  },
  {
   "cell_type": "code",
   "execution_count": 15,
   "id": "32cbc757-9c56-40db-8670-fa16b82fb489",
   "metadata": {},
   "outputs": [
    {
     "data": {
      "text/plain": [
       "dtype('int32')"
      ]
     },
     "execution_count": 15,
     "metadata": {},
     "output_type": "execute_result"
    }
   ],
   "source": [
    "A.dtype"
   ]
  },
  {
   "cell_type": "markdown",
   "id": "2c79a69a-2886-4d7a-a67c-44800dc0ca4b",
   "metadata": {},
   "source": [
    "### 建立ndarray的方法\n",
    "- np.array()\n",
    "- np.zeros()\n",
    "- np.ones()\n",
    "- np.empty()\n",
    "- np.arange()\n",
    "- np.linspace()"
   ]
  },
  {
   "cell_type": "code",
   "execution_count": 13,
   "id": "59733a8b-e456-46fb-ac08-0f652fc8db05",
   "metadata": {},
   "outputs": [],
   "source": [
    "import numpy as np\n",
    "a = np.array([1, 2, 3])"
   ]
  },
  {
   "cell_type": "code",
   "execution_count": 14,
   "id": "0a8462f5-debb-4617-8d2d-76ecca953afa",
   "metadata": {},
   "outputs": [
    {
     "data": {
      "text/plain": [
       "array([1, 2, 3])"
      ]
     },
     "execution_count": 14,
     "metadata": {},
     "output_type": "execute_result"
    }
   ],
   "source": [
    "a"
   ]
  },
  {
   "cell_type": "code",
   "execution_count": 15,
   "id": "bc47692c-8a3a-4a7d-b6bc-5919025c3c44",
   "metadata": {},
   "outputs": [
    {
     "data": {
      "text/plain": [
       "array([0., 0., 0.])"
      ]
     },
     "execution_count": 15,
     "metadata": {},
     "output_type": "execute_result"
    }
   ],
   "source": [
    "np.zeros(3)"
   ]
  },
  {
   "cell_type": "code",
   "execution_count": 16,
   "id": "edf43533-efb8-463b-ad73-890afab346ad",
   "metadata": {},
   "outputs": [
    {
     "data": {
      "text/plain": [
       "dtype('float64')"
      ]
     },
     "execution_count": 16,
     "metadata": {},
     "output_type": "execute_result"
    }
   ],
   "source": [
    "np.zeros(3).dtype"
   ]
  },
  {
   "cell_type": "code",
   "execution_count": 18,
   "id": "99c9a65e-3921-4e27-83fb-0291b943523b",
   "metadata": {},
   "outputs": [
    {
     "data": {
      "text/plain": [
       "array([1., 1., 1., 1.])"
      ]
     },
     "execution_count": 18,
     "metadata": {},
     "output_type": "execute_result"
    }
   ],
   "source": [
    "np.ones(4)"
   ]
  },
  {
   "cell_type": "code",
   "execution_count": 20,
   "id": "f975be8e-4670-4957-bbb5-9fd32f61a018",
   "metadata": {},
   "outputs": [
    {
     "data": {
      "text/plain": [
       "array([1.93719321e-147, 2.02909009e+158])"
      ]
     },
     "execution_count": 20,
     "metadata": {},
     "output_type": "execute_result"
    }
   ],
   "source": [
    "np.empty(2) #The function empty creates an array whose initial content is random and depends on the state of the memory"
   ]
  },
  {
   "cell_type": "code",
   "execution_count": 21,
   "id": "f724db24-6a1d-4db1-93b0-9b17e78efc8b",
   "metadata": {},
   "outputs": [
    {
     "data": {
      "text/plain": [
       "array([0, 1, 2, 3])"
      ]
     },
     "execution_count": 21,
     "metadata": {},
     "output_type": "execute_result"
    }
   ],
   "source": [
    "np.arange(4) # 可以想像成是range(4)的numpy版"
   ]
  },
  {
   "cell_type": "code",
   "execution_count": 23,
   "id": "a7e36b97-446d-42e9-ab96-9e1f08483d92",
   "metadata": {},
   "outputs": [
    {
     "data": {
      "text/plain": [
       "array([2, 4, 6, 8])"
      ]
     },
     "execution_count": 23,
     "metadata": {},
     "output_type": "execute_result"
    }
   ],
   "source": [
    "np.arange(2, 9, 2) # 也可以像 range那樣給(start, end, step)"
   ]
  },
  {
   "cell_type": "code",
   "execution_count": 22,
   "id": "5bf2985a-61e5-49df-bb9a-567e0543c683",
   "metadata": {},
   "outputs": [
    {
     "data": {
      "text/plain": [
       "array([ 0. ,  2.5,  5. ,  7.5, 10. ])"
      ]
     },
     "execution_count": 22,
     "metadata": {},
     "output_type": "execute_result"
    }
   ],
   "source": [
    "np.linspace(0, 10, num=5) #to create an array with values that are spaced linearly in a specified interval"
   ]
  },
  {
   "cell_type": "code",
   "execution_count": 23,
   "id": "27c35c7f-42a5-4616-b904-fa3925397229",
   "metadata": {},
   "outputs": [
    {
     "data": {
      "text/plain": [
       "array([ 0.        ,  0.52631579,  1.05263158,  1.57894737,  2.10526316,\n",
       "        2.63157895,  3.15789474,  3.68421053,  4.21052632,  4.73684211,\n",
       "        5.26315789,  5.78947368,  6.31578947,  6.84210526,  7.36842105,\n",
       "        7.89473684,  8.42105263,  8.94736842,  9.47368421, 10.        ])"
      ]
     },
     "execution_count": 23,
     "metadata": {},
     "output_type": "execute_result"
    }
   ],
   "source": [
    "np.linspace(0, 10, num=20) #to create an array with values that are spaced linearly in a specified interval"
   ]
  },
  {
   "cell_type": "code",
   "execution_count": 24,
   "id": "948137e9-9e38-43e8-b56c-b52b7046cbad",
   "metadata": {},
   "outputs": [],
   "source": [
    "x = np.ones(2, dtype=np.int64) #可以指定dtype的型態"
   ]
  },
  {
   "cell_type": "code",
   "execution_count": 25,
   "id": "460b31ba-bed4-46a7-90ad-c43f0b9c1533",
   "metadata": {},
   "outputs": [
    {
     "data": {
      "text/plain": [
       "array([1, 1], dtype=int64)"
      ]
     },
     "execution_count": 25,
     "metadata": {},
     "output_type": "execute_result"
    }
   ],
   "source": [
    "x"
   ]
  },
  {
   "cell_type": "code",
   "execution_count": 27,
   "id": "d6a372cf-47d9-478c-8078-b5433dcd0e1c",
   "metadata": {},
   "outputs": [
    {
     "data": {
      "text/plain": [
       "array([1., 1.])"
      ]
     },
     "execution_count": 27,
     "metadata": {},
     "output_type": "execute_result"
    }
   ],
   "source": [
    "np.ones(2) #the default data type is floating point (np.float64)"
   ]
  },
  {
   "cell_type": "markdown",
   "id": "5ffefd65-e468-4bd7-8e26-0a3efca760cc",
   "metadata": {},
   "source": [
    "### sort操作"
   ]
  },
  {
   "cell_type": "code",
   "execution_count": 28,
   "id": "56d61d36-4a7c-46eb-96c1-97ea18a040d9",
   "metadata": {},
   "outputs": [],
   "source": [
    "arr = np.array([2, 1, 5, 3, 7, 4, 6, 8])"
   ]
  },
  {
   "cell_type": "code",
   "execution_count": 29,
   "id": "a416e76e-ad0c-4678-8cf6-02a4197a4f98",
   "metadata": {},
   "outputs": [
    {
     "data": {
      "text/plain": [
       "array([1, 2, 3, 4, 5, 6, 7, 8])"
      ]
     },
     "execution_count": 29,
     "metadata": {},
     "output_type": "execute_result"
    }
   ],
   "source": [
    "np.sort(arr)"
   ]
  },
  {
   "cell_type": "markdown",
   "id": "65f9ed0c-5d71-400c-8ec7-781281466de6",
   "metadata": {},
   "source": [
    "### array "
   ]
  },
  {
   "cell_type": "code",
   "execution_count": 31,
   "id": "d2dda076-15da-4b91-8145-745fccf121a2",
   "metadata": {},
   "outputs": [
    {
     "data": {
      "text/plain": [
       "[1, 2, 3, 4, 5, 6, 7, 8]"
      ]
     },
     "execution_count": 31,
     "metadata": {},
     "output_type": "execute_result"
    }
   ],
   "source": [
    "va = [1, 2, 3, 4]\n",
    "vb = [5, 6, 7, 8]\n",
    "va+vb"
   ]
  },
  {
   "cell_type": "code",
   "execution_count": 30,
   "id": "0760cf26-9e78-4778-b9ca-83e923c869fe",
   "metadata": {},
   "outputs": [
    {
     "data": {
      "text/plain": [
       "array([1, 2, 3, 4, 5, 6, 7, 8])"
      ]
     },
     "execution_count": 30,
     "metadata": {},
     "output_type": "execute_result"
    }
   ],
   "source": [
    "a = np.array([1, 2, 3, 4])\n",
    "b = np.array([5, 6, 7, 8])\n",
    "np.concatenate((a, b))"
   ]
  },
  {
   "cell_type": "code",
   "execution_count": 32,
   "id": "188a04b9-e73d-4642-b6dd-3ad9d8770111",
   "metadata": {},
   "outputs": [
    {
     "data": {
      "text/plain": [
       "array([ 6,  8, 10, 12])"
      ]
     },
     "execution_count": 32,
     "metadata": {},
     "output_type": "execute_result"
    }
   ],
   "source": [
    "a+b"
   ]
  },
  {
   "cell_type": "code",
   "execution_count": 33,
   "id": "09142e00-4012-4863-b679-7d9ae33b0454",
   "metadata": {},
   "outputs": [
    {
     "data": {
      "text/plain": [
       "array([[1, 2],\n",
       "       [3, 4],\n",
       "       [5, 6]])"
      ]
     },
     "execution_count": 33,
     "metadata": {},
     "output_type": "execute_result"
    }
   ],
   "source": [
    "x = np.array([[1, 2], [3, 4]])\n",
    "y = np.array([[5, 6]])\n",
    "np.concatenate((x, y), axis=0)"
   ]
  },
  {
   "cell_type": "code",
   "execution_count": 37,
   "id": "9142c496-79af-489e-8baa-f19b2c142cfe",
   "metadata": {},
   "outputs": [],
   "source": [
    "list_a = [[1, 2, 3], ['a', 'b'], [1], [5, 6, 7, 8, 9, 10]]"
   ]
  },
  {
   "cell_type": "code",
   "execution_count": 38,
   "id": "63820c3a-bb0c-4b0d-a252-89324b0ca968",
   "metadata": {},
   "outputs": [
    {
     "data": {
      "text/plain": [
       "[[1, 2, 3], ['a', 'b'], [1], [5, 6, 7, 8, 9, 10]]"
      ]
     },
     "execution_count": 38,
     "metadata": {},
     "output_type": "execute_result"
    }
   ],
   "source": [
    "list_a"
   ]
  },
  {
   "cell_type": "code",
   "execution_count": 36,
   "id": "b6ff26c7-7967-44e1-a577-8714e855575c",
   "metadata": {},
   "outputs": [
    {
     "ename": "ValueError",
     "evalue": "all the input array dimensions for the concatenation axis must match exactly, but along dimension 0, the array at index 0 has size 2 and the array at index 1 has size 1",
     "output_type": "error",
     "traceback": [
      "\u001b[1;31m---------------------------------------------------------------------------\u001b[0m",
      "\u001b[1;31mValueError\u001b[0m                                Traceback (most recent call last)",
      "\u001b[1;32m~\\AppData\\Local\\Temp/ipykernel_19212/3082598265.py\u001b[0m in \u001b[0;36m<module>\u001b[1;34m\u001b[0m\n\u001b[1;32m----> 1\u001b[1;33m \u001b[0mnp\u001b[0m\u001b[1;33m.\u001b[0m\u001b[0mconcatenate\u001b[0m\u001b[1;33m(\u001b[0m\u001b[1;33m(\u001b[0m\u001b[0mx\u001b[0m\u001b[1;33m,\u001b[0m \u001b[0my\u001b[0m\u001b[1;33m)\u001b[0m\u001b[1;33m,\u001b[0m \u001b[0maxis\u001b[0m\u001b[1;33m=\u001b[0m\u001b[1;36m1\u001b[0m\u001b[1;33m)\u001b[0m\u001b[1;33m\u001b[0m\u001b[1;33m\u001b[0m\u001b[0m\n\u001b[0m",
      "\u001b[1;32m<__array_function__ internals>\u001b[0m in \u001b[0;36mconcatenate\u001b[1;34m(*args, **kwargs)\u001b[0m\n",
      "\u001b[1;31mValueError\u001b[0m: all the input array dimensions for the concatenation axis must match exactly, but along dimension 0, the array at index 0 has size 2 and the array at index 1 has size 1"
     ]
    }
   ],
   "source": [
    "np.concatenate((x, y), axis=1)"
   ]
  },
  {
   "cell_type": "markdown",
   "id": "b0e6c9ff-9477-4cf1-a701-7fb39673d30a",
   "metadata": {
    "tags": []
   },
   "source": [
    "### ndim, size, shape"
   ]
  },
  {
   "cell_type": "code",
   "execution_count": 39,
   "id": "81362180-f038-46d9-a21d-a5f565a619cb",
   "metadata": {},
   "outputs": [],
   "source": [
    "array_example = np.array([\n",
    "                            [[0, 1, 2, 3],\n",
    "                             [4, 5, 6, 7]],\n",
    "\n",
    "                          [[0, 1, 2, 3],\n",
    "                           [4, 5, 6, 7]],\n",
    "\n",
    "                          [[0 ,1 ,2, 3],\n",
    "                           [4, 5, 6, 7]]])"
   ]
  },
  {
   "cell_type": "code",
   "execution_count": 40,
   "id": "b7e9b849-995c-4147-a6a2-f3450b448bf3",
   "metadata": {},
   "outputs": [
    {
     "data": {
      "text/plain": [
       "3"
      ]
     },
     "execution_count": 40,
     "metadata": {},
     "output_type": "execute_result"
    }
   ],
   "source": [
    "array_example.ndim"
   ]
  },
  {
   "cell_type": "code",
   "execution_count": 41,
   "id": "935aa490-e23f-42dd-8b72-4e4ad78e0f61",
   "metadata": {},
   "outputs": [
    {
     "data": {
      "text/plain": [
       "24"
      ]
     },
     "execution_count": 41,
     "metadata": {},
     "output_type": "execute_result"
    }
   ],
   "source": [
    "array_example.size"
   ]
  },
  {
   "cell_type": "code",
   "execution_count": 42,
   "id": "d989e287-ab0d-4638-a4c1-8a61f9518fdf",
   "metadata": {},
   "outputs": [
    {
     "data": {
      "text/plain": [
       "(3, 2, 4)"
      ]
     },
     "execution_count": 42,
     "metadata": {},
     "output_type": "execute_result"
    }
   ],
   "source": [
    "array_example.shape"
   ]
  },
  {
   "cell_type": "markdown",
   "id": "e004db55-d1df-4bf6-82e7-8f6b9f6ec276",
   "metadata": {},
   "source": [
    "### reshape"
   ]
  },
  {
   "cell_type": "code",
   "execution_count": 43,
   "id": "7752205e-da8e-4c19-9c9f-0749fc9169d2",
   "metadata": {},
   "outputs": [
    {
     "data": {
      "text/plain": [
       "array([0, 1, 2, 3, 4, 5])"
      ]
     },
     "execution_count": 43,
     "metadata": {},
     "output_type": "execute_result"
    }
   ],
   "source": [
    "a = np.arange(6)\n",
    "a"
   ]
  },
  {
   "cell_type": "code",
   "execution_count": 44,
   "id": "a6a86c77-ecb7-4460-a691-94bc455be93c",
   "metadata": {},
   "outputs": [
    {
     "data": {
      "text/plain": [
       "array([[0, 1],\n",
       "       [2, 3],\n",
       "       [4, 5]])"
      ]
     },
     "execution_count": 44,
     "metadata": {},
     "output_type": "execute_result"
    }
   ],
   "source": [
    "b = a.reshape(3, 2)\n",
    "b"
   ]
  },
  {
   "cell_type": "markdown",
   "id": "5a4c78e4-9c80-4c9d-a400-0f8777f2f167",
   "metadata": {},
   "source": [
    "### index, slice"
   ]
  },
  {
   "cell_type": "code",
   "execution_count": 45,
   "id": "33abd9cb-bad6-4b8d-b410-34f46a63f759",
   "metadata": {},
   "outputs": [],
   "source": [
    "data = np.array([1, 2, 3, 4, 5])"
   ]
  },
  {
   "cell_type": "code",
   "execution_count": 46,
   "id": "423f866e-fd14-4574-9367-8896f90a4af5",
   "metadata": {},
   "outputs": [
    {
     "data": {
      "text/plain": [
       "2"
      ]
     },
     "execution_count": 46,
     "metadata": {},
     "output_type": "execute_result"
    }
   ],
   "source": [
    "data[1]"
   ]
  },
  {
   "cell_type": "code",
   "execution_count": 49,
   "id": "2fe93c04-ef5f-496c-960b-ceedf655fa58",
   "metadata": {},
   "outputs": [
    {
     "data": {
      "text/plain": [
       "array([1, 2, 3, 4])"
      ]
     },
     "execution_count": 49,
     "metadata": {},
     "output_type": "execute_result"
    }
   ],
   "source": [
    "data[0:4]"
   ]
  },
  {
   "cell_type": "code",
   "execution_count": 50,
   "id": "fad8598d-3666-464d-85b0-0b1d69e803f6",
   "metadata": {},
   "outputs": [
    {
     "data": {
      "text/plain": [
       "array([4, 5])"
      ]
     },
     "execution_count": 50,
     "metadata": {},
     "output_type": "execute_result"
    }
   ],
   "source": [
    "data[3:]"
   ]
  },
  {
   "cell_type": "code",
   "execution_count": 51,
   "id": "ba32787a-6143-4f6e-9de6-cf4c6461cad9",
   "metadata": {},
   "outputs": [
    {
     "data": {
      "text/plain": [
       "array([2, 3, 4])"
      ]
     },
     "execution_count": 51,
     "metadata": {},
     "output_type": "execute_result"
    }
   ],
   "source": [
    "data[-4:4]"
   ]
  },
  {
   "cell_type": "markdown",
   "id": "da86d4fc-689b-4d9f-be80-53c41576afa7",
   "metadata": {},
   "source": [
    "- Broadcasting"
   ]
  },
  {
   "cell_type": "code",
   "execution_count": 69,
   "id": "4c0fe822-39fb-49e3-b2df-a4deda614e71",
   "metadata": {},
   "outputs": [
    {
     "data": {
      "text/plain": [
       "array([1.6, 3.2])"
      ]
     },
     "execution_count": 69,
     "metadata": {},
     "output_type": "execute_result"
    }
   ],
   "source": [
    "data = np.array([1.0, 2.0])\n",
    "data * 1.6"
   ]
  },
  {
   "cell_type": "code",
   "execution_count": 52,
   "id": "200bd76e-d59f-42d4-981a-401b17b51ba5",
   "metadata": {},
   "outputs": [
    {
     "data": {
      "text/plain": [
       "array([1.6, 3.2])"
      ]
     },
     "execution_count": 52,
     "metadata": {},
     "output_type": "execute_result"
    }
   ],
   "source": [
    "v1 = np.array([1.0, 2.0])\n",
    "v2 = np.array([1.6, 1.6])\n",
    "v1*v2"
   ]
  },
  {
   "cell_type": "markdown",
   "id": "19c4db86-6352-49a3-b73d-d038becb3a3e",
   "metadata": {},
   "source": [
    "### More useful array operations"
   ]
  },
  {
   "cell_type": "code",
   "execution_count": 72,
   "id": "1d9ac3ba-8a6b-480f-9593-69f14a3dd835",
   "metadata": {},
   "outputs": [],
   "source": [
    "data = np.array([4, 5, 6, 7, 8, 9, 10])"
   ]
  },
  {
   "cell_type": "code",
   "execution_count": 73,
   "id": "08eab4ae-ddf1-4a2d-9dd4-831e8dd2fe0b",
   "metadata": {},
   "outputs": [
    {
     "data": {
      "text/plain": [
       "10"
      ]
     },
     "execution_count": 73,
     "metadata": {},
     "output_type": "execute_result"
    }
   ],
   "source": [
    "data.max()"
   ]
  },
  {
   "cell_type": "code",
   "execution_count": 74,
   "id": "e55cc87e-298b-456e-8e1c-a88be2d285c6",
   "metadata": {},
   "outputs": [
    {
     "data": {
      "text/plain": [
       "4"
      ]
     },
     "execution_count": 74,
     "metadata": {},
     "output_type": "execute_result"
    }
   ],
   "source": [
    "data.min()"
   ]
  },
  {
   "cell_type": "code",
   "execution_count": 75,
   "id": "cf854b4a-3114-4c15-8bc8-a32322056795",
   "metadata": {},
   "outputs": [
    {
     "data": {
      "text/plain": [
       "49"
      ]
     },
     "execution_count": 75,
     "metadata": {},
     "output_type": "execute_result"
    }
   ],
   "source": [
    "data.sum()"
   ]
  },
  {
   "cell_type": "code",
   "execution_count": 76,
   "id": "84f8d72b-bf92-4ca4-89f4-58c9626a82f3",
   "metadata": {},
   "outputs": [
    {
     "data": {
      "text/plain": [
       "7.0"
      ]
     },
     "execution_count": 76,
     "metadata": {},
     "output_type": "execute_result"
    }
   ],
   "source": [
    "data.mean()"
   ]
  },
  {
   "cell_type": "code",
   "execution_count": 77,
   "id": "830cd59b-8295-46ea-97af-1c7726a54c96",
   "metadata": {},
   "outputs": [
    {
     "data": {
      "text/plain": [
       "604800"
      ]
     },
     "execution_count": 77,
     "metadata": {},
     "output_type": "execute_result"
    }
   ],
   "source": [
    "data.prod()"
   ]
  },
  {
   "cell_type": "markdown",
   "id": "bbb6c162-9de6-428b-abb8-9b041682748d",
   "metadata": {},
   "source": [
    "- 對上matrix的操作"
   ]
  },
  {
   "cell_type": "code",
   "execution_count": 78,
   "id": "a175d5a2-3fdd-4ad0-9bb0-c4b5f3a27ca1",
   "metadata": {},
   "outputs": [],
   "source": [
    "a = np.array([[0.45053314, 0.17296777, 0.34376245, 0.5510652],\n",
    "              [0.54627315, 0.05093587, 0.40067661, 0.55645993],\n",
    "              [0.12697628, 0.82485143, 0.26590556, 0.56917101]])"
   ]
  },
  {
   "cell_type": "code",
   "execution_count": 79,
   "id": "5b39cd23-e15a-44f2-9f52-734789e66e38",
   "metadata": {},
   "outputs": [
    {
     "data": {
      "text/plain": [
       "4.8595784"
      ]
     },
     "execution_count": 79,
     "metadata": {},
     "output_type": "execute_result"
    }
   ],
   "source": [
    "a.sum()"
   ]
  },
  {
   "cell_type": "code",
   "execution_count": 80,
   "id": "647a9707-4618-4cb8-8c19-5ede3b09fb6e",
   "metadata": {},
   "outputs": [
    {
     "data": {
      "text/plain": [
       "0.4049648666666667"
      ]
     },
     "execution_count": 80,
     "metadata": {},
     "output_type": "execute_result"
    }
   ],
   "source": [
    "a.mean()"
   ]
  },
  {
   "cell_type": "code",
   "execution_count": 81,
   "id": "24b600c6-04df-42b6-be0a-b8bafe666486",
   "metadata": {},
   "outputs": [
    {
     "data": {
      "text/plain": [
       "0.05093587"
      ]
     },
     "execution_count": 81,
     "metadata": {},
     "output_type": "execute_result"
    }
   ],
   "source": [
    "a.min()"
   ]
  },
  {
   "cell_type": "markdown",
   "id": "b4730726-f91b-4dce-ae5a-4db88be91c2e",
   "metadata": {},
   "source": [
    "- 這邊很像excel中 column方向，或是row方向的操作"
   ]
  },
  {
   "cell_type": "code",
   "execution_count": 82,
   "id": "16c9459b-4d30-4cb9-944a-24f7dc33e6a0",
   "metadata": {},
   "outputs": [
    {
     "data": {
      "text/plain": [
       "array([1.12378257, 1.04875507, 1.01034462, 1.67669614])"
      ]
     },
     "execution_count": 82,
     "metadata": {},
     "output_type": "execute_result"
    }
   ],
   "source": [
    "a.sum(axis=0)"
   ]
  },
  {
   "cell_type": "code",
   "execution_count": 83,
   "id": "580cd096-2023-45fd-b983-38abfc38cf25",
   "metadata": {},
   "outputs": [
    {
     "data": {
      "text/plain": [
       "array([1.51832856, 1.55434556, 1.78690428])"
      ]
     },
     "execution_count": 83,
     "metadata": {},
     "output_type": "execute_result"
    }
   ],
   "source": [
    "a.sum(axis=1)"
   ]
  },
  {
   "cell_type": "code",
   "execution_count": 84,
   "id": "ab9c3845-f18b-4e56-ba4c-6fbe22a9f6ec",
   "metadata": {},
   "outputs": [
    {
     "data": {
      "text/plain": [
       "array([0.37459419, 0.34958502, 0.33678154, 0.55889871])"
      ]
     },
     "execution_count": 84,
     "metadata": {},
     "output_type": "execute_result"
    }
   ],
   "source": [
    "a.mean(axis=0)"
   ]
  },
  {
   "cell_type": "code",
   "execution_count": 84,
   "id": "92b89421-b6c4-48ff-8f69-32931f765dce",
   "metadata": {},
   "outputs": [
    {
     "data": {
      "text/plain": [
       "array([0.37958214, 0.38858639, 0.44672607])"
      ]
     },
     "execution_count": 84,
     "metadata": {},
     "output_type": "execute_result"
    }
   ],
   "source": [
    "a.mean(axis=1)"
   ]
  },
  {
   "cell_type": "code",
   "execution_count": 85,
   "id": "75e2e679-a90a-47d7-ba52-92fdf120abdd",
   "metadata": {},
   "outputs": [],
   "source": [
    "# TODO: 練習以這一個matrix進行sum, mean, min, max的操作\n",
    "# 假設以下是一個班級學生的考試成績\n",
    "#                國文, 數學\n",
    "data = np.array([[80, 60], # A君\n",
    "                 [85, 66], # B君\n",
    "                 [90, 90], # C君\n",
    "                 [70, 92], # D君\n",
    "                 [82, 80]  # E君\n",
    "                ])\n"
   ]
  },
  {
   "cell_type": "code",
   "execution_count": 86,
   "id": "1f066b66-2d20-4b46-b1ef-d398bc5a8275",
   "metadata": {},
   "outputs": [
    {
     "data": {
      "text/plain": [
       "array([81.4, 77.6])"
      ]
     },
     "execution_count": 86,
     "metadata": {},
     "output_type": "execute_result"
    }
   ],
   "source": [
    "# 全班國文的平均\n",
    "data.mean(axis=0)"
   ]
  },
  {
   "cell_type": "code",
   "execution_count": 90,
   "id": "135d4846-50fc-4452-b662-23a506874dac",
   "metadata": {},
   "outputs": [
    {
     "data": {
      "text/plain": [
       "array([140, 151, 180, 162, 162])"
      ]
     },
     "execution_count": 90,
     "metadata": {},
     "output_type": "execute_result"
    }
   ],
   "source": [
    "data.sum(axis=1)"
   ]
  },
  {
   "cell_type": "code",
   "execution_count": 89,
   "id": "f1beab9c-9e19-4528-b159-911428b26596",
   "metadata": {},
   "outputs": [
    {
     "data": {
      "text/plain": [
       "180"
      ]
     },
     "execution_count": 89,
     "metadata": {},
     "output_type": "execute_result"
    }
   ],
   "source": [
    "# 全班每一位同學的總分\n",
    "data.sum(axis=1).max()"
   ]
  },
  {
   "cell_type": "markdown",
   "id": "ef06bd11-7284-4179-8a20-5166b117431a",
   "metadata": {},
   "source": [
    "### 進一步做比較"
   ]
  },
  {
   "cell_type": "code",
   "execution_count": 91,
   "id": "9dc0a841-5ffd-4c73-9fe2-6cebb8bdd83f",
   "metadata": {},
   "outputs": [],
   "source": [
    "a = np.array([[1 , 2, 3, 4], \n",
    "              [5, 6, 7, 8], \n",
    "              [9, 10, 11, 12]])"
   ]
  },
  {
   "cell_type": "code",
   "execution_count": 92,
   "id": "e30d8989-b1c0-4cc1-aae3-d5df137fb59b",
   "metadata": {},
   "outputs": [
    {
     "data": {
      "text/plain": [
       "array([[ True,  True,  True,  True],\n",
       "       [False, False, False, False],\n",
       "       [False, False, False, False]])"
      ]
     },
     "execution_count": 92,
     "metadata": {},
     "output_type": "execute_result"
    }
   ],
   "source": [
    "a<5"
   ]
  },
  {
   "cell_type": "code",
   "execution_count": 93,
   "id": "2d785b30-9583-4fd2-bf25-7db28a8686e8",
   "metadata": {},
   "outputs": [
    {
     "name": "stdout",
     "output_type": "stream",
     "text": [
      "[1 2 3 4]\n"
     ]
    }
   ],
   "source": [
    "print(a[a < 5])"
   ]
  },
  {
   "cell_type": "code",
   "execution_count": 96,
   "id": "ccbd0c1a-ec03-4d53-bec1-db6d0bbb5c84",
   "metadata": {},
   "outputs": [
    {
     "name": "stdout",
     "output_type": "stream",
     "text": [
      "[ 6  7  8  9 10 11 12]\n"
     ]
    }
   ],
   "source": [
    "print(a[a > 5])"
   ]
  },
  {
   "cell_type": "code",
   "execution_count": 97,
   "id": "0655f018-c91b-4e43-b770-2d2bdafb306d",
   "metadata": {},
   "outputs": [
    {
     "name": "stdout",
     "output_type": "stream",
     "text": [
      "1\n",
      "2\n",
      "3\n",
      "4\n"
     ]
    }
   ],
   "source": [
    "m1 = [[1 , 2, 3, 4], \n",
    "              [5, 6, 7, 8], \n",
    "              [9, 10, 11, 12]]\n",
    "for i in range(3):\n",
    "    for j in range(4):\n",
    "        if m1[i][j]<5:\n",
    "            print(m1[i][j])"
   ]
  },
  {
   "cell_type": "code",
   "execution_count": 100,
   "id": "9360ad44-1378-4109-b716-943fa02211cb",
   "metadata": {},
   "outputs": [
    {
     "data": {
      "text/plain": [
       "array([7])"
      ]
     },
     "execution_count": 100,
     "metadata": {},
     "output_type": "execute_result"
    }
   ],
   "source": [
    "divisible_by_2 = a[a%7==0]\n",
    "divisible_by_2"
   ]
  },
  {
   "cell_type": "code",
   "execution_count": 101,
   "id": "fd455cad-40c4-4a0b-90fd-b4aff4276204",
   "metadata": {},
   "outputs": [
    {
     "name": "stdout",
     "output_type": "stream",
     "text": [
      "[ 3  4  5  6  7  8  9 10]\n"
     ]
    }
   ],
   "source": [
    "c = a[(a > 2) & (a < 11)]\n",
    "print(c)"
   ]
  },
  {
   "cell_type": "markdown",
   "id": "841203d6-f58f-49a9-b78e-a5e1bd00afa6",
   "metadata": {},
   "source": [
    "- where"
   ]
  },
  {
   "cell_type": "code",
   "execution_count": 102,
   "id": "0eddc84e-fb1e-45c8-b342-83eba5b39f72",
   "metadata": {},
   "outputs": [
    {
     "data": {
      "text/plain": [
       "array([[ 0,  0,  0,  0],\n",
       "       [ 0,  6,  7,  8],\n",
       "       [ 9, 10, 11, 12]])"
      ]
     },
     "execution_count": 102,
     "metadata": {},
     "output_type": "execute_result"
    }
   ],
   "source": [
    "np.where(a>5, a, 0)"
   ]
  },
  {
   "cell_type": "code",
   "execution_count": 103,
   "id": "d7f4a299-c2f1-4fdb-a31b-8525c79534d7",
   "metadata": {},
   "outputs": [
    {
     "data": {
      "text/plain": [
       "array([[1, 1, 1, 1],\n",
       "       [1, 1, 1, 1],\n",
       "       [1, 1, 1, 1]])"
      ]
     },
     "execution_count": 103,
     "metadata": {},
     "output_type": "execute_result"
    }
   ],
   "source": [
    "b = np.array([[1 , 1, 1, 1], \n",
    "              [1, 1, 1, 1], \n",
    "              [1, 1, 1, 1]])\n",
    "b"
   ]
  },
  {
   "cell_type": "code",
   "execution_count": 104,
   "id": "893f6f40-cb15-4f95-a253-d46d3e1138c6",
   "metadata": {},
   "outputs": [
    {
     "data": {
      "text/plain": [
       "array([[ 1,  1,  1,  1],\n",
       "       [ 1,  6,  7,  8],\n",
       "       [ 9, 10, 11, 12]])"
      ]
     },
     "execution_count": 104,
     "metadata": {},
     "output_type": "execute_result"
    }
   ],
   "source": [
    "np.where(a>5, a, b)"
   ]
  },
  {
   "cell_type": "code",
   "execution_count": null,
   "id": "753108ca-255d-4696-a9ea-99a6ce182952",
   "metadata": {},
   "outputs": [],
   "source": []
  }
 ],
 "metadata": {
  "kernelspec": {
   "display_name": "Python 3 (ipykernel)",
   "language": "python",
   "name": "python3"
  },
  "language_info": {
   "codemirror_mode": {
    "name": "ipython",
    "version": 3
   },
   "file_extension": ".py",
   "mimetype": "text/x-python",
   "name": "python",
   "nbconvert_exporter": "python",
   "pygments_lexer": "ipython3",
   "version": "3.9.7"
  }
 },
 "nbformat": 4,
 "nbformat_minor": 5
}
